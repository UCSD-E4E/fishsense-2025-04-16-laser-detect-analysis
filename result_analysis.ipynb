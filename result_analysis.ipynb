{
 "cells": [
  {
   "cell_type": "code",
   "execution_count": null,
   "id": "e4448b32",
   "metadata": {},
   "outputs": [],
   "source": [
    "import matplotlib.pyplot as plt\n",
    "import numpy as np\n",
    "import pandas as pd"
   ]
  },
  {
   "cell_type": "code",
   "execution_count": 2,
   "id": "faee312e",
   "metadata": {},
   "outputs": [
    {
     "data": {
      "text/html": [
       "<div>\n",
       "<style scoped>\n",
       "    .dataframe tbody tr th:only-of-type {\n",
       "        vertical-align: middle;\n",
       "    }\n",
       "\n",
       "    .dataframe tbody tr th {\n",
       "        vertical-align: top;\n",
       "    }\n",
       "\n",
       "    .dataframe thead th {\n",
       "        text-align: right;\n",
       "    }\n",
       "</style>\n",
       "<table border=\"1\" class=\"dataframe\">\n",
       "  <thead>\n",
       "    <tr style=\"text-align: right;\">\n",
       "      <th></th>\n",
       "      <th>cksum</th>\n",
       "      <th>x</th>\n",
       "      <th>y</th>\n",
       "      <th>distance</th>\n",
       "    </tr>\n",
       "  </thead>\n",
       "  <tbody>\n",
       "    <tr>\n",
       "      <th>0</th>\n",
       "      <td>c6e5e9475836296139815f2d6ebf26a0</td>\n",
       "      <td>1653.018100</td>\n",
       "      <td>2489.090498</td>\n",
       "      <td>1193.419572</td>\n",
       "    </tr>\n",
       "    <tr>\n",
       "      <th>1</th>\n",
       "      <td>b85554c7672f06eb27285d6b1eb670a9</td>\n",
       "      <td>3757.839166</td>\n",
       "      <td>1179.531397</td>\n",
       "      <td>1757.520177</td>\n",
       "    </tr>\n",
       "    <tr>\n",
       "      <th>2</th>\n",
       "      <td>b42d19d988a1edc463ab29cb94a7d5a2</td>\n",
       "      <td>873.385281</td>\n",
       "      <td>1171.043290</td>\n",
       "      <td>1165.791741</td>\n",
       "    </tr>\n",
       "    <tr>\n",
       "      <th>3</th>\n",
       "      <td>de9c588850b1369d60479f923e1f6963</td>\n",
       "      <td>NaN</td>\n",
       "      <td>NaN</td>\n",
       "      <td>inf</td>\n",
       "    </tr>\n",
       "    <tr>\n",
       "      <th>4</th>\n",
       "      <td>c0769bf63bb438799621a8358c8a8381</td>\n",
       "      <td>2433.750376</td>\n",
       "      <td>1260.047118</td>\n",
       "      <td>449.287023</td>\n",
       "    </tr>\n",
       "    <tr>\n",
       "      <th>...</th>\n",
       "      <td>...</td>\n",
       "      <td>...</td>\n",
       "      <td>...</td>\n",
       "      <td>...</td>\n",
       "    </tr>\n",
       "    <tr>\n",
       "      <th>19980</th>\n",
       "      <td>bc9f971f444143ea4e1771db16e16075</td>\n",
       "      <td>2459.487320</td>\n",
       "      <td>480.713500</td>\n",
       "      <td>890.061013</td>\n",
       "    </tr>\n",
       "    <tr>\n",
       "      <th>19981</th>\n",
       "      <td>566bbc41e8aa81932f3935248a3364c1</td>\n",
       "      <td>1495.244444</td>\n",
       "      <td>1415.066667</td>\n",
       "      <td>447.575664</td>\n",
       "    </tr>\n",
       "    <tr>\n",
       "      <th>19982</th>\n",
       "      <td>805e184a83ac7cb785f5d10b565fe960</td>\n",
       "      <td>NaN</td>\n",
       "      <td>NaN</td>\n",
       "      <td>inf</td>\n",
       "    </tr>\n",
       "    <tr>\n",
       "      <th>19983</th>\n",
       "      <td>77f6f449c98cfe1672d300ba1c6f5f85</td>\n",
       "      <td>1347.581748</td>\n",
       "      <td>2135.475855</td>\n",
       "      <td>957.709081</td>\n",
       "    </tr>\n",
       "    <tr>\n",
       "      <th>19984</th>\n",
       "      <td>8a0a63f24c57c89e37ef4899b6574a7d</td>\n",
       "      <td>1538.102427</td>\n",
       "      <td>2758.623443</td>\n",
       "      <td>1401.846234</td>\n",
       "    </tr>\n",
       "  </tbody>\n",
       "</table>\n",
       "<p>19985 rows × 4 columns</p>\n",
       "</div>"
      ],
      "text/plain": [
       "                                  cksum            x            y     distance\n",
       "0      c6e5e9475836296139815f2d6ebf26a0  1653.018100  2489.090498  1193.419572\n",
       "1      b85554c7672f06eb27285d6b1eb670a9  3757.839166  1179.531397  1757.520177\n",
       "2      b42d19d988a1edc463ab29cb94a7d5a2   873.385281  1171.043290  1165.791741\n",
       "3      de9c588850b1369d60479f923e1f6963          NaN          NaN          inf\n",
       "4      c0769bf63bb438799621a8358c8a8381  2433.750376  1260.047118   449.287023\n",
       "...                                 ...          ...          ...          ...\n",
       "19980  bc9f971f444143ea4e1771db16e16075  2459.487320   480.713500   890.061013\n",
       "19981  566bbc41e8aa81932f3935248a3364c1  1495.244444  1415.066667   447.575664\n",
       "19982  805e184a83ac7cb785f5d10b565fe960          NaN          NaN          inf\n",
       "19983  77f6f449c98cfe1672d300ba1c6f5f85  1347.581748  2135.475855   957.709081\n",
       "19984  8a0a63f24c57c89e37ef4899b6574a7d  1538.102427  2758.623443  1401.846234\n",
       "\n",
       "[19985 rows x 4 columns]"
      ]
     },
     "execution_count": 2,
     "metadata": {},
     "output_type": "execute_result"
    }
   ],
   "source": [
    "df = pd.read_csv('analysis.csv')\n",
    "df"
   ]
  },
  {
   "cell_type": "code",
   "execution_count": 6,
   "id": "69f90c6a",
   "metadata": {},
   "outputs": [
    {
     "data": {
      "text/plain": [
       "array([[<Axes: title={'center': 'distance'}>]], dtype=object)"
      ]
     },
     "execution_count": 6,
     "metadata": {},
     "output_type": "execute_result"
    },
    {
     "data": {
      "image/png": "[encoded data removed]",
      "text/plain": [
       "<Figure size 640x480 with 1 Axes>"
      ]
     },
     "metadata": {},
     "output_type": "display_data"
    }
   ],
   "source": [
    "df[df['distance'] != np.inf].hist('distance')"
   ]
  },
  {
   "cell_type": "code",
   "execution_count": 11,
   "id": "ed95833b",
   "metadata": {},
   "outputs": [
    {
     "data": {
      "text/plain": [
       "np.float64(993219.575144923)"
      ]
     },
     "execution_count": 11,
     "metadata": {},
     "output_type": "execute_result"
    }
   ],
   "source": [
    "errors = df[df['distance'] != np.inf]['distance'].to_numpy()\n",
    "mse = np.sum(np.pow(errors, 2)) / len(errors)\n",
    "mse"
   ]
  },
  {
   "cell_type": "code",
   "execution_count": null,
   "id": "b80f7e2c",
   "metadata": {},
   "outputs": [],
   "source": []
  }
 ],
 "metadata": {
  "kernelspec": {
   "display_name": ".venv",
   "language": "python",
   "name": "python3"
  },
  "language_info": {
   "codemirror_mode": {
    "name": "ipython",
    "version": 3
   },
   "file_extension": ".py",
   "mimetype": "text/x-python",
   "name": "python",
   "nbconvert_exporter": "python",
   "pygments_lexer": "ipython3",
   "version": "3.12.7"
  }
 },
 "nbformat": 4,
 "nbformat_minor": 5
}
