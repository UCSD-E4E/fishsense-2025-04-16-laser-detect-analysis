{
 "cells": [
  {
   "cell_type": "code",
   "execution_count": 1,
   "id": "e4448b32",
   "metadata": {},
   "outputs": [],
   "source": [
    "import matplotlib.pyplot as plt\n",
    "import numpy as np\n",
    "import pandas as pd"
   ]
  },
  {
   "cell_type": "code",
   "execution_count": 2,
   "id": "faee312e",
   "metadata": {},
   "outputs": [
    {
     "data": {
      "text/html": [
       "<div>\n",
       "<style scoped>\n",
       "    .dataframe tbody tr th:only-of-type {\n",
       "        vertical-align: middle;\n",
       "    }\n",
       "\n",
       "    .dataframe tbody tr th {\n",
       "        vertical-align: top;\n",
       "    }\n",
       "\n",
       "    .dataframe thead th {\n",
       "        text-align: right;\n",
       "    }\n",
       "</style>\n",
       "<table border=\"1\" class=\"dataframe\">\n",
       "  <thead>\n",
       "    <tr style=\"text-align: right;\">\n",
       "      <th></th>\n",
       "      <th>cksum</th>\n",
       "      <th>x</th>\n",
       "      <th>y</th>\n",
       "      <th>distance</th>\n",
       "    </tr>\n",
       "  </thead>\n",
       "  <tbody>\n",
       "    <tr>\n",
       "      <th>0</th>\n",
       "      <td>c6e5e9475836296139815f2d6ebf26a0</td>\n",
       "      <td>1653.018100</td>\n",
       "      <td>2489.090498</td>\n",
       "      <td>1193.419572</td>\n",
       "    </tr>\n",
       "    <tr>\n",
       "      <th>1</th>\n",
       "      <td>b85554c7672f06eb27285d6b1eb670a9</td>\n",
       "      <td>3757.839166</td>\n",
       "      <td>1179.531397</td>\n",
       "      <td>1757.520177</td>\n",
       "    </tr>\n",
       "    <tr>\n",
       "      <th>2</th>\n",
       "      <td>b42d19d988a1edc463ab29cb94a7d5a2</td>\n",
       "      <td>873.385281</td>\n",
       "      <td>1171.043290</td>\n",
       "      <td>1165.791741</td>\n",
       "    </tr>\n",
       "    <tr>\n",
       "      <th>3</th>\n",
       "      <td>de9c588850b1369d60479f923e1f6963</td>\n",
       "      <td>NaN</td>\n",
       "      <td>NaN</td>\n",
       "      <td>inf</td>\n",
       "    </tr>\n",
       "    <tr>\n",
       "      <th>4</th>\n",
       "      <td>c0769bf63bb438799621a8358c8a8381</td>\n",
       "      <td>2433.750376</td>\n",
       "      <td>1260.047118</td>\n",
       "      <td>449.287023</td>\n",
       "    </tr>\n",
       "    <tr>\n",
       "      <th>...</th>\n",
       "      <td>...</td>\n",
       "      <td>...</td>\n",
       "      <td>...</td>\n",
       "      <td>...</td>\n",
       "    </tr>\n",
       "    <tr>\n",
       "      <th>20175</th>\n",
       "      <td>361e7e3132e63ac8f19dd990a2d50fdc</td>\n",
       "      <td>259.934826</td>\n",
       "      <td>1217.897393</td>\n",
       "      <td>1691.564113</td>\n",
       "    </tr>\n",
       "    <tr>\n",
       "      <th>20176</th>\n",
       "      <td>e9b968b8e9bfd56221e7887600ada707</td>\n",
       "      <td>2118.785899</td>\n",
       "      <td>1179.774317</td>\n",
       "      <td>284.926705</td>\n",
       "    </tr>\n",
       "    <tr>\n",
       "      <th>20177</th>\n",
       "      <td>bab67d0549fe298b99a1b5f61ee32140</td>\n",
       "      <td>2065.542292</td>\n",
       "      <td>2185.883794</td>\n",
       "      <td>930.195206</td>\n",
       "    </tr>\n",
       "    <tr>\n",
       "      <th>20178</th>\n",
       "      <td>aac09a16773d7723c60c4764ffa076d2</td>\n",
       "      <td>3430.421074</td>\n",
       "      <td>2691.185034</td>\n",
       "      <td>2100.653311</td>\n",
       "    </tr>\n",
       "    <tr>\n",
       "      <th>20179</th>\n",
       "      <td>66e8f1969a17c15a67059e1e446551ee</td>\n",
       "      <td>1869.930362</td>\n",
       "      <td>2401.160631</td>\n",
       "      <td>1053.427400</td>\n",
       "    </tr>\n",
       "  </tbody>\n",
       "</table>\n",
       "<p>20180 rows × 4 columns</p>\n",
       "</div>"
      ],
      "text/plain": [
       "                                  cksum            x            y     distance\n",
       "0      c6e5e9475836296139815f2d6ebf26a0  1653.018100  2489.090498  1193.419572\n",
       "1      b85554c7672f06eb27285d6b1eb670a9  3757.839166  1179.531397  1757.520177\n",
       "2      b42d19d988a1edc463ab29cb94a7d5a2   873.385281  1171.043290  1165.791741\n",
       "3      de9c588850b1369d60479f923e1f6963          NaN          NaN          inf\n",
       "4      c0769bf63bb438799621a8358c8a8381  2433.750376  1260.047118   449.287023\n",
       "...                                 ...          ...          ...          ...\n",
       "20175  361e7e3132e63ac8f19dd990a2d50fdc   259.934826  1217.897393  1691.564113\n",
       "20176  e9b968b8e9bfd56221e7887600ada707  2118.785899  1179.774317   284.926705\n",
       "20177  bab67d0549fe298b99a1b5f61ee32140  2065.542292  2185.883794   930.195206\n",
       "20178  aac09a16773d7723c60c4764ffa076d2  3430.421074  2691.185034  2100.653311\n",
       "20179  66e8f1969a17c15a67059e1e446551ee  1869.930362  2401.160631  1053.427400\n",
       "\n",
       "[20180 rows x 4 columns]"
      ]
     },
     "execution_count": 2,
     "metadata": {},
     "output_type": "execute_result"
    }
   ],
   "source": [
    "df = pd.read_csv('analysis.csv')\n",
    "df"
   ]
  },
  {
   "cell_type": "code",
   "execution_count": 3,
   "id": "2bb86cf2",
   "metadata": {},
   "outputs": [
    {
     "data": {
      "text/plain": [
       "3382"
      ]
     },
     "execution_count": 3,
     "metadata": {},
     "output_type": "execute_result"
    }
   ],
   "source": [
    "len(df[df['distance'] == np.inf])"
   ]
  },
  {
   "cell_type": "code",
   "execution_count": 4,
   "id": "69f90c6a",
   "metadata": {},
   "outputs": [
    {
     "data": {
      "text/plain": [
       "array([[<Axes: title={'center': 'distance'}>]], dtype=object)"
      ]
     },
     "execution_count": 4,
     "metadata": {},
     "output_type": "execute_result"
    },
    {
     "data": {
      "image/png": "[encoded data removed]",
      "text/plain": [
       "<Figure size 640x480 with 1 Axes>"
      ]
     },
     "metadata": {},
     "output_type": "display_data"
    }
   ],
   "source": [
    "df[df['distance'] != np.inf].hist('distance')"
   ]
  },
  {
   "cell_type": "code",
   "execution_count": 5,
   "id": "ed95833b",
   "metadata": {},
   "outputs": [
    {
     "data": {
      "text/plain": [
       "np.float64(1001916.9246738886)"
      ]
     },
     "execution_count": 5,
     "metadata": {},
     "output_type": "execute_result"
    }
   ],
   "source": [
    "errors = df[df['distance'] != np.inf]['distance'].to_numpy()\n",
    "mse = np.sum(np.pow(errors, 2)) / len(errors)\n",
    "mse"
   ]
  },
  {
   "cell_type": "code",
   "execution_count": null,
   "id": "b80f7e2c",
   "metadata": {},
   "outputs": [],
   "source": []
  }
 ],
 "metadata": {
  "kernelspec": {
   "display_name": ".venv",
   "language": "python",
   "name": "python3"
  },
  "language_info": {
   "codemirror_mode": {
    "name": "ipython",
    "version": 3
   },
   "file_extension": ".py",
   "mimetype": "text/x-python",
   "name": "python",
   "nbconvert_exporter": "python",
   "pygments_lexer": "ipython3",
   "version": "3.12.7"
  }
 },
 "nbformat": 4,
 "nbformat_minor": 5
}
