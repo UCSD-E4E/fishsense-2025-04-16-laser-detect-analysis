{
 "cells": [
  {
   "cell_type": "code",
   "execution_count": 22,
   "id": "e4448b32",
   "metadata": {},
   "outputs": [],
   "source": [
    "import matplotlib.pyplot as plt\n",
    "import numpy as np\n",
    "import pandas as pd"
   ]
  },
  {
   "cell_type": "code",
   "execution_count": 23,
   "id": "faee312e",
   "metadata": {},
   "outputs": [
    {
     "data": {
      "text/html": [
       "<div>\n",
       "<style scoped>\n",
       "    .dataframe tbody tr th:only-of-type {\n",
       "        vertical-align: middle;\n",
       "    }\n",
       "\n",
       "    .dataframe tbody tr th {\n",
       "        vertical-align: top;\n",
       "    }\n",
       "\n",
       "    .dataframe thead th {\n",
       "        text-align: right;\n",
       "    }\n",
       "</style>\n",
       "<table border=\"1\" class=\"dataframe\">\n",
       "  <thead>\n",
       "    <tr style=\"text-align: right;\">\n",
       "      <th></th>\n",
       "      <th>cksum</th>\n",
       "      <th>x</th>\n",
       "      <th>y</th>\n",
       "      <th>distance</th>\n",
       "    </tr>\n",
       "  </thead>\n",
       "  <tbody>\n",
       "    <tr>\n",
       "      <th>0</th>\n",
       "      <td>c6e5e9475836296139815f2d6ebf26a0</td>\n",
       "      <td>1789.862340</td>\n",
       "      <td>2510.853491</td>\n",
       "      <td>1181.356060</td>\n",
       "    </tr>\n",
       "    <tr>\n",
       "      <th>1</th>\n",
       "      <td>b85554c7672f06eb27285d6b1eb670a9</td>\n",
       "      <td>3733.348037</td>\n",
       "      <td>1138.716060</td>\n",
       "      <td>1738.209345</td>\n",
       "    </tr>\n",
       "    <tr>\n",
       "      <th>2</th>\n",
       "      <td>b42d19d988a1edc463ab29cb94a7d5a2</td>\n",
       "      <td>1037.327192</td>\n",
       "      <td>2011.372976</td>\n",
       "      <td>1163.410124</td>\n",
       "    </tr>\n",
       "    <tr>\n",
       "      <th>3</th>\n",
       "      <td>de9c588850b1369d60479f923e1f6963</td>\n",
       "      <td>NaN</td>\n",
       "      <td>NaN</td>\n",
       "      <td>inf</td>\n",
       "    </tr>\n",
       "    <tr>\n",
       "      <th>4</th>\n",
       "      <td>c0769bf63bb438799621a8358c8a8381</td>\n",
       "      <td>2470.421092</td>\n",
       "      <td>1420.166868</td>\n",
       "      <td>504.701615</td>\n",
       "    </tr>\n",
       "    <tr>\n",
       "      <th>...</th>\n",
       "      <td>...</td>\n",
       "      <td>...</td>\n",
       "      <td>...</td>\n",
       "      <td>...</td>\n",
       "    </tr>\n",
       "    <tr>\n",
       "      <th>3047</th>\n",
       "      <td>e231e59e2194801761603e6d1e4501b9</td>\n",
       "      <td>1123.132397</td>\n",
       "      <td>2012.621762</td>\n",
       "      <td>1079.788646</td>\n",
       "    </tr>\n",
       "    <tr>\n",
       "      <th>3048</th>\n",
       "      <td>056d8d1f6824e43abd575f2389cca8dd</td>\n",
       "      <td>1348.022455</td>\n",
       "      <td>282.892027</td>\n",
       "      <td>1269.859887</td>\n",
       "    </tr>\n",
       "    <tr>\n",
       "      <th>3049</th>\n",
       "      <td>03f1b5782aec771d386270492e625bbf</td>\n",
       "      <td>2813.460526</td>\n",
       "      <td>1097.185948</td>\n",
       "      <td>901.811201</td>\n",
       "    </tr>\n",
       "    <tr>\n",
       "      <th>3050</th>\n",
       "      <td>9a4be4fe26cff463358284b843e61411</td>\n",
       "      <td>2650.126404</td>\n",
       "      <td>673.204469</td>\n",
       "      <td>938.362379</td>\n",
       "    </tr>\n",
       "    <tr>\n",
       "      <th>3051</th>\n",
       "      <td>63ccae7b8e9e4a5defa3058579fb5140</td>\n",
       "      <td>1986.346772</td>\n",
       "      <td>1209.636888</td>\n",
       "      <td>114.855526</td>\n",
       "    </tr>\n",
       "  </tbody>\n",
       "</table>\n",
       "<p>3052 rows × 4 columns</p>\n",
       "</div>"
      ],
      "text/plain": [
       "                                 cksum            x            y     distance\n",
       "0     c6e5e9475836296139815f2d6ebf26a0  1789.862340  2510.853491  1181.356060\n",
       "1     b85554c7672f06eb27285d6b1eb670a9  3733.348037  1138.716060  1738.209345\n",
       "2     b42d19d988a1edc463ab29cb94a7d5a2  1037.327192  2011.372976  1163.410124\n",
       "3     de9c588850b1369d60479f923e1f6963          NaN          NaN          inf\n",
       "4     c0769bf63bb438799621a8358c8a8381  2470.421092  1420.166868   504.701615\n",
       "...                                ...          ...          ...          ...\n",
       "3047  e231e59e2194801761603e6d1e4501b9  1123.132397  2012.621762  1079.788646\n",
       "3048  056d8d1f6824e43abd575f2389cca8dd  1348.022455   282.892027  1269.859887\n",
       "3049  03f1b5782aec771d386270492e625bbf  2813.460526  1097.185948   901.811201\n",
       "3050  9a4be4fe26cff463358284b843e61411  2650.126404   673.204469   938.362379\n",
       "3051  63ccae7b8e9e4a5defa3058579fb5140  1986.346772  1209.636888   114.855526\n",
       "\n",
       "[3052 rows x 4 columns]"
      ]
     },
     "execution_count": 23,
     "metadata": {},
     "output_type": "execute_result"
    }
   ],
   "source": [
    "df = pd.read_csv('analysis.csv')\n",
    "df"
   ]
  },
  {
   "cell_type": "code",
   "execution_count": 24,
   "id": "2bb86cf2",
   "metadata": {},
   "outputs": [
    {
     "data": {
      "text/plain": [
       "377"
      ]
     },
     "execution_count": 24,
     "metadata": {},
     "output_type": "execute_result"
    }
   ],
   "source": [
    "len(df[df['distance'] == np.inf])"
   ]
  },
  {
   "cell_type": "code",
   "execution_count": 25,
   "id": "69f90c6a",
   "metadata": {},
   "outputs": [
    {
     "data": {
      "text/plain": [
       "Text(0.5, 1.0, 'Distance error histogram')"
      ]
     },
     "execution_count": 25,
     "metadata": {},
     "output_type": "execute_result"
    },
    {
     "data": {
      "image/png": "[encoded data removed]",
      "text/plain": [
       "<Figure size 640x480 with 1 Axes>"
      ]
     },
     "metadata": {},
     "output_type": "display_data"
    }
   ],
   "source": [
    "fig = plt.figure()\n",
    "ax = fig.add_subplot(111)\n",
    "ax.hist(df[df['distance'] != np.inf]['distance'])\n",
    "ax.grid(True)\n",
    "ax.set_xlabel('Error distance (pixels)')\n",
    "ax.set_ylabel('Number of images')\n",
    "ax.set_title('Distance error histogram')"
   ]
  },
  {
   "cell_type": "code",
   "execution_count": 26,
   "id": "ed95833b",
   "metadata": {},
   "outputs": [
    {
     "data": {
      "text/plain": [
       "np.float64(1018216.7729123841)"
      ]
     },
     "execution_count": 26,
     "metadata": {},
     "output_type": "execute_result"
    }
   ],
   "source": [
    "errors = df[df['distance'] != np.inf]['distance'].to_numpy()\n",
    "mse = np.sum(np.pow(errors, 2)) / len(errors)\n",
    "mse"
   ]
  },
  {
   "cell_type": "code",
   "execution_count": null,
   "id": "b80f7e2c",
   "metadata": {},
   "outputs": [],
   "source": []
  },
  {
   "cell_type": "code",
   "execution_count": null,
   "id": "3da4f55b",
   "metadata": {},
   "outputs": [],
   "source": []
  }
 ],
 "metadata": {
  "kernelspec": {
   "display_name": ".venv",
   "language": "python",
   "name": "python3"
  },
  "language_info": {
   "codemirror_mode": {
    "name": "ipython",
    "version": 3
   },
   "file_extension": ".py",
   "mimetype": "text/x-python",
   "name": "python",
   "nbconvert_exporter": "python",
   "pygments_lexer": "ipython3",
   "version": "3.12.7"
  }
 },
 "nbformat": 4,
 "nbformat_minor": 5
}
