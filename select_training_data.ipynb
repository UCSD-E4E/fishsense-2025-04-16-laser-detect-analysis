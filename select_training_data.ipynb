{
 "cells": [
  {
   "cell_type": "code",
   "execution_count": 1,
   "id": "45d71407",
   "metadata": {},
   "outputs": [],
   "source": [
    "import random\n",
    "import shutil\n",
    "from http import HTTPStatus\n",
    "from pathlib import Path\n",
    "from typing import List\n",
    "\n",
    "import cv2 as cv\n",
    "import requests\n",
    "\n",
    "from fishsense_gmm_laser_detector.config import settings"
   ]
  },
  {
   "cell_type": "code",
   "execution_count": 2,
   "id": "b69a0721",
   "metadata": {},
   "outputs": [],
   "source": [
    "n_frames_to_select = 5\n",
    "rgb = [255, 0, 0]\n",
    "v_limit = 200"
   ]
  },
  {
   "cell_type": "code",
   "execution_count": 3,
   "id": "50768253",
   "metadata": {},
   "outputs": [],
   "source": [
    "output_path = Path('./images')\n",
    "if output_path.exists():\n",
    "    shutil.rmtree(output_path)\n",
    "output_path.mkdir(parents=True, exist_ok=True)"
   ]
  },
  {
   "cell_type": "code",
   "execution_count": 4,
   "id": "0abcb361",
   "metadata": {},
   "outputs": [],
   "source": [
    "spot_path = Path('./spots')\n",
    "if spot_path.exists():\n",
    "    shutil.rmtree(spot_path)\n",
    "spot_path.mkdir(parents=True, exist_ok=True)"
   ]
  },
  {
   "cell_type": "code",
   "execution_count": 5,
   "id": "ccfcdcea",
   "metadata": {},
   "outputs": [],
   "source": [
    "headers = {\n",
    "    'api_key': settings.e4efs.api_key\n",
    "}"
   ]
  },
  {
   "cell_type": "code",
   "execution_count": 6,
   "id": "11571b04",
   "metadata": {},
   "outputs": [],
   "source": [
    "with requests.Session() as session:\n",
    "    session.headers.update(headers)\n",
    "    dive_list = session.get('https://orchestrator.fishsense.e4e.ucsd.edu/api/v1/metadata/dives').json()['dives']\n",
    "    frames: List[str] = []\n",
    "    for dive in dive_list:\n",
    "        dive_frames = session.get(f'https://orchestrator.fishsense.e4e.ucsd.edu/api/v1/metadata/dive/{dive}').json()['frames']\n",
    "        frames.extend(dive_frames)"
   ]
  },
  {
   "cell_type": "code",
   "execution_count": 7,
   "id": "75ade28e",
   "metadata": {},
   "outputs": [
    {
     "data": {
      "text/plain": [
       "[('eaf23b033d7739306134ca7df532bdf2',\n",
       "  {'task_id': 43023, 'x': 1972, 'y': 1395}),\n",
       " ('6b735932f8f5571c6e005ccaec41f9a1',\n",
       "  {'task_id': 39693, 'x': 1943, 'y': 1251}),\n",
       " ('dd514a27994a301d1ebe26f0b0d1c2b6',\n",
       "  {'task_id': 44878, 'x': 2025, 'y': 1293}),\n",
       " ('97ef263638239355c9448d4c53b73d5f',\n",
       "  {'task_id': 41418, 'x': 1908, 'y': 1235}),\n",
       " ('5e4ad064821097b7a1bfff8c24dc56c3',\n",
       "  {'task_id': 40271, 'x': 2054, 'y': 1393})]"
      ]
     },
     "execution_count": 7,
     "metadata": {},
     "output_type": "execute_result"
    }
   ],
   "source": [
    "frames_to_select = []\n",
    "random.seed(0)\n",
    "with requests.Session() as session:\n",
    "    session.headers.update(headers)\n",
    "    for idx in range(n_frames_to_select):\n",
    "        img = None\n",
    "        while img is None:\n",
    "            checksum = random.choice(frames)\n",
    "            if checksum in frames_to_select:\n",
    "                continue\n",
    "            laser_label_req = session.get(f'https://orchestrator.fishsense.e4e.ucsd.edu/api/v1/data/laser/{checksum}')\n",
    "            if laser_label_req.status_code != HTTPStatus.OK:\n",
    "                continue\n",
    "            laser_label = laser_label_req.json()\n",
    "            img_req = session.get(f'https://orchestrator.fishsense.e4e.ucsd.edu/api/v1/data/preprocess_jpeg/{checksum}')\n",
    "            if img_req.status_code != HTTPStatus.OK:\n",
    "                continue\n",
    "            jpeg_path = output_path / f'{checksum}.jpg'\n",
    "            with open(jpeg_path, 'wb') as handle:\n",
    "                handle.write(img_req.content)\n",
    "            img_data = cv.imread(jpeg_path)\n",
    "            rgb_data = cv.cvtColor(img_data, cv.COLOR_BGR2RGB)\n",
    "            hsv_data = cv.cvtColor(img_data, cv.COLOR_BGR2HSV)\n",
    "            pixel_value = rgb_data[laser_label['x'], laser_label['y']]\n",
    "            # is R bigger than others?\n",
    "            if not (pixel_value[0] > pixel_value[1] and pixel_value[0] > pixel_value[2]):\n",
    "                # Not a red laser\n",
    "                continue\n",
    "            # This is a red laser\n",
    "            if hsv_data[laser_label['x'], laser_label['y'], 2] > v_limit:\n",
    "                # too bright\n",
    "                continue\n",
    "            img = checksum\n",
    "        frames_to_select.append((img, laser_label))\n",
    "frames_to_select"
   ]
  },
  {
   "cell_type": "code",
   "execution_count": 8,
   "id": "fb6f0b7e",
   "metadata": {},
   "outputs": [],
   "source": [
    "boxes = [\n",
    "    {\n",
    "        'checksum': 'eaf23b033d7739306134ca7df532bdf2',\n",
    "        'x0': 1969,\n",
    "        'y0': 1390,\n",
    "        'x1': 1969+9,\n",
    "        'y1': 1390+11\n",
    "    },\n",
    "    {\n",
    "        'checksum': '6b735932f8f5571c6e005ccaec41f9a1',\n",
    "        'x0': 1936,\n",
    "        'y0': 1239,\n",
    "        'x1': 1936+17,\n",
    "        'y1': 1239+22\n",
    "    },\n",
    "    {\n",
    "        'checksum': 'dd514a27994a301d1ebe26f0b0d1c2b6',\n",
    "        'x0': 2021,\n",
    "        'y0': 1286,\n",
    "        'x1': 2021+8,\n",
    "        'y1': 1286+11\n",
    "    },\n",
    "    {\n",
    "        'checksum': '97ef263638239355c9448d4c53b73d5f',\n",
    "        'x0': 1902,\n",
    "        'y0': 1227,\n",
    "        'x1': 1902+12,\n",
    "        'y1': 1227+19\n",
    "    },\n",
    "    {\n",
    "        'checksum': '5e4ad064821097b7a1bfff8c24dc56c3',\n",
    "        'x0': 2051,\n",
    "        'y0': 1387,\n",
    "        'x1': 2051+8,\n",
    "        'y1': 1387+13\n",
    "    }\n",
    "]"
   ]
  },
  {
   "cell_type": "code",
   "execution_count": 9,
   "id": "6dd18e71",
   "metadata": {},
   "outputs": [],
   "source": [
    "for box in boxes:\n",
    "    bgr_img = cv.imread(output_path / f'{box['checksum']}.jpg')\n",
    "    pixels = bgr_img[box['y0']:box['y1'], box['x0']:box['x1']]\n",
    "    cv.imwrite(spot_path / f'{box['checksum']}.jpg', pixels)"
   ]
  },
  {
   "cell_type": "code",
   "execution_count": null,
   "id": "96f1ae61",
   "metadata": {},
   "outputs": [],
   "source": []
  }
 ],
 "metadata": {
  "kernelspec": {
   "display_name": ".venv",
   "language": "python",
   "name": "python3"
  },
  "language_info": {
   "codemirror_mode": {
    "name": "ipython",
    "version": 3
   },
   "file_extension": ".py",
   "mimetype": "text/x-python",
   "name": "python",
   "nbconvert_exporter": "python",
   "pygments_lexer": "ipython3",
   "version": "3.12.4"
  }
 },
 "nbformat": 4,
 "nbformat_minor": 5
}
